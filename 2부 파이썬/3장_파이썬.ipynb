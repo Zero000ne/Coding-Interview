{
  "nbformat": 4,
  "nbformat_minor": 0,
  "metadata": {
    "colab": {
      "provenance": [],
      "mount_file_id": "10ZAXtGYKmtQ0v4Epc1IYDLuvXKml85ZF",
      "authorship_tag": "ABX9TyP4rEuIDnZH603GYYghC/TP"
    },
    "kernelspec": {
      "name": "python3",
      "display_name": "Python 3"
    },
    "language_info": {
      "name": "python"
    }
  },
  "cells": [
    {
      "cell_type": "markdown",
      "source": [
        "# **파이썬 문법**"
      ],
      "metadata": {
        "id": "id1xvyvLX7Xd"
      }
    },
    {
      "cell_type": "markdown",
      "source": [
        "# 인덴트"
      ],
      "metadata": {
        "id": "IlBZVRT9YEfs"
      }
    },
    {
      "cell_type": "markdown",
      "source": [
        "*   PEP 8에 따라 공백 4칸을 원칙으로 함"
      ],
      "metadata": {
        "id": "VOGradjvYG8z"
      }
    },
    {
      "cell_type": "code",
      "source": [
        "def long_function_name(\n",
        "    var_one, var_two\n",
        "    var_three, var_four):\n",
        "  print(var_one)"
      ],
      "metadata": {
        "id": "1HMPC_d8YaiI"
      },
      "execution_count": null,
      "outputs": []
    },
    {
      "cell_type": "markdown",
      "source": [
        "# 네이밍 컨벤션 (Naming Convention)"
      ],
      "metadata": {
        "id": "Jrbf3wQpac2f"
      }
    },
    {
      "cell_type": "markdown",
      "source": [
        "java와 달리 각 단어를 밑줄(_)로 구분하여 표기하는 snake case(스네이크 케이스)를 따름"
      ],
      "metadata": {
        "id": "5rDm4UGta7T4"
      }
    },
    {
      "cell_type": "code",
      "source": [
        "# Camel Case (java sytle)\n",
        "camelCase: int = 1\n",
        "\n",
        "# Snake Case (Python style)\n",
        "snake_case: int = 1"
      ],
      "metadata": {
        "id": "DnOvM8GNaj36"
      },
      "execution_count": null,
      "outputs": []
    },
    {
      "cell_type": "markdown",
      "source": [
        "# 타입 힌트 (Type Hint)"
      ],
      "metadata": {
        "id": "fddGmlKhbEmN"
      }
    },
    {
      "cell_type": "markdown",
      "source": [
        "Python은 대표적인 동적 타이핑 언어임에도, 타입을 지정할 수 있는 타입 힌트가 추가됨 (파이썬 버전 3.5 이상)"
      ],
      "metadata": {
        "id": "1ZnpVd8bbEzr"
      }
    },
    {
      "cell_type": "code",
      "source": [
        "a: str = \"1\"\n",
        "b: int = 1"
      ],
      "metadata": {
        "id": "ePN9fOCvbFBf"
      },
      "execution_count": null,
      "outputs": []
    },
    {
      "cell_type": "code",
      "source": [
        "# 타입 힌트 사용하지 않는 파이썬 함수\n",
        "def fn(a):\n",
        "  pass\n"
      ],
      "metadata": {
        "id": "i-DNc_7Dbe6u"
      },
      "execution_count": null,
      "outputs": []
    },
    {
      "cell_type": "markdown",
      "source": [
        "이는 빠르게 정의해서 사용할 수 있는 장점이 있지만,  \n",
        " *  fn() 함수의 파라미터 a에는 숫자를 넘겨야 하는지, 문자를 넘겨야 하는지 전혀 알 수 없음\n",
        " *  함수의 리턴값이 무엇인지도 알 수 없음.\n",
        "\n",
        "프로젝트 규모가 커지게 되면 **가독성을 떨어뜨리게** 되며 **버그 유발**의 주범이 됨."
      ],
      "metadata": {
        "id": "yF1c8hSNbvmv"
      }
    },
    {
      "cell_type": "code",
      "source": [
        "def fn(a:int) -> bool:\n",
        "  pass"
      ],
      "metadata": {
        "id": "acD51nmPcD_m"
      },
      "execution_count": null,
      "outputs": []
    },
    {
      "cell_type": "markdown",
      "source": [
        "이처럼 타입 힌트를 사용하게 되면,  \n",
        "fn() 함수의 파라미터 a가 정수형임을 분명하게 알 수 있으며 리턴\n",
        "\n",
        "*   fn() 함수의 파라미터 a가 정수형임을 분명하게 알 수 있으며\n",
        "*   return 값으로 True 또는 False를 리턴할 것이라는 점도 알 수 있음\n",
        "\n",
        "명시적으로 선언하게 되면 **가독성이 좋아지며 버그 발생 확률을 줄일** 수 있음"
      ],
      "metadata": {
        "id": "My_cXgDfcFu9"
      }
    },
    {
      "cell_type": "markdown",
      "source": [
        "# 리스트 컴프리헨션 (List Comprehension)"
      ],
      "metadata": {
        "id": "u8z2pfkodCB8"
      }
    },
    {
      "cell_type": "markdown",
      "source": [
        "map, filter와 같은 함수형 (Functional) 기능을 지원하며 다음과 같은 람다(lambda) 표현식도 지원함"
      ],
      "metadata": {
        "id": "I4BfsiBYdIwi"
      }
    },
    {
      "cell_type": "code",
      "source": [
        "list(map(lambda x: x+10, [1,2,3]))"
      ],
      "metadata": {
        "colab": {
          "base_uri": "https://localhost:8080/"
        },
        "id": "PcMUY4-UdJOx",
        "outputId": "5f508587-5db0-471b-b0b0-93b12f928156"
      },
      "execution_count": null,
      "outputs": [
        {
          "output_type": "execute_result",
          "data": {
            "text/plain": [
              "[11, 12, 13]"
            ]
          },
          "metadata": {},
          "execution_count": 2
        }
      ]
    },
    {
      "cell_type": "code",
      "source": [
        "[n * 2 for n in range(1,10+1) if n % 2 == 1]"
      ],
      "metadata": {
        "colab": {
          "base_uri": "https://localhost:8080/"
        },
        "id": "oT7N5n7jdnKQ",
        "outputId": "72958e40-31d1-4919-b655-8522e53f4916"
      },
      "execution_count": null,
      "outputs": [
        {
          "output_type": "execute_result",
          "data": {
            "text/plain": [
              "[2, 6, 10, 14, 18]"
            ]
          },
          "metadata": {},
          "execution_count": 3
        }
      ]
    },
    {
      "cell_type": "markdown",
      "source": [
        "만약 리스트 컴프리헨션을 사용하지 않으면 다음과 같이 작성해야 함"
      ],
      "metadata": {
        "id": "BZoezE5Gdvs_"
      }
    },
    {
      "cell_type": "code",
      "source": [
        "a = []\n",
        "for n in range(1,10+1):\n",
        "  if n % 2 == 1:\n",
        "    a.append(n * 2)"
      ],
      "metadata": {
        "id": "O4IyyK4Ddz1a"
      },
      "execution_count": null,
      "outputs": []
    },
    {
      "cell_type": "code",
      "source": [
        "a"
      ],
      "metadata": {
        "colab": {
          "base_uri": "https://localhost:8080/"
        },
        "id": "2IM3q3bzd8Md",
        "outputId": "68d621f2-01b8-49c8-acf2-a6b191d67b75"
      },
      "execution_count": null,
      "outputs": [
        {
          "output_type": "execute_result",
          "data": {
            "text/plain": [
              "[2, 6, 10, 14, 18]"
            ]
          },
          "metadata": {},
          "execution_count": 5
        }
      ]
    },
    {
      "cell_type": "markdown",
      "source": [
        "이처럼 풀어서 작성한 코드는 리스트 컴프리헨션에 비해 훨씬 더 길어졌고, a라는 별도의 리스트 변수 또한 필요해졌음."
      ],
      "metadata": {
        "id": "dB8W9VfyeBIR"
      }
    },
    {
      "cell_type": "markdown",
      "source": [
        "리스트 외에도 딕셔너리 등 가능함"
      ],
      "metadata": {
        "id": "dXABFAood9T_"
      }
    },
    {
      "cell_type": "code",
      "source": [
        "original = {'test':1, 'testt':2}\n",
        "\n",
        "# 딕셔너리 컴프리헨션 X\n",
        "a = {}\n",
        "for key, value in original.items():\n",
        "  a[key] = value\n",
        "\n",
        "# 딕셔너리 컴프리헨션 O\n",
        "aa = {key: value for key, value in original.items()}"
      ],
      "metadata": {
        "colab": {
          "base_uri": "https://localhost:8080/"
        },
        "id": "FZIS1Y0beN-y",
        "outputId": "448ad60f-c071-45b5-ab59-c861bdf4e074"
      },
      "execution_count": null,
      "outputs": [
        {
          "output_type": "execute_result",
          "data": {
            "text/plain": [
              "{'test': 1, 'testt': 2}"
            ]
          },
          "metadata": {},
          "execution_count": 10
        }
      ]
    },
    {
      "cell_type": "code",
      "source": [
        "a"
      ],
      "metadata": {
        "colab": {
          "base_uri": "https://localhost:8080/"
        },
        "id": "TTy7VUc4ekLM",
        "outputId": "4cc07c17-22bc-4bfc-9e24-5265640a3bab"
      },
      "execution_count": null,
      "outputs": [
        {
          "output_type": "execute_result",
          "data": {
            "text/plain": [
              "{'test': 1, 'testt': 2}"
            ]
          },
          "metadata": {},
          "execution_count": 9
        }
      ]
    },
    {
      "cell_type": "code",
      "source": [
        "aa"
      ],
      "metadata": {
        "colab": {
          "base_uri": "https://localhost:8080/"
        },
        "id": "Yt5Paiz7e9Vv",
        "outputId": "f936a498-29eb-42cd-e1ab-2ed69b77ffcc"
      },
      "execution_count": null,
      "outputs": [
        {
          "output_type": "execute_result",
          "data": {
            "text/plain": [
              "{'test': 1, 'testt': 2}"
            ]
          },
          "metadata": {},
          "execution_count": 11
        }
      ]
    },
    {
      "cell_type": "markdown",
      "source": [
        "# 제너레이터 (Generator)"
      ],
      "metadata": {
        "id": "B0sw7byNel2M"
      }
    },
    {
      "cell_type": "markdown",
      "source": [
        "제너레이터는 루프의 반복(Iteration) 동작을 제어할 수 있는 루틴의 형태를 의미함  \n",
        "\n",
        "제너레이터는 메모리에 보관해두지 않고, 단순히 제너레이터만 생성해두고 필요할 때 언제든 숫자를 만들 수 있음  \n",
        "\n",
        "\n",
        "*  yield 구문을 통해 제너레이터를 return할 수 있음\n",
        "*  yield는 함수를 종료하지 않고 return만 하고 계속해서 함수를 진행함  \n",
        "\n",
        "기존 함수는 return 구문을 맞닥뜨리면 값을 return하고 모든 함수의 동작을 종료함\n"
      ],
      "metadata": {
        "id": "1pLfMkXigbtj"
      }
    },
    {
      "cell_type": "code",
      "source": [
        "def get_natural_number():\n",
        "    n = 0\n",
        "    while True:\n",
        "      n += 1\n",
        "      yield n"
      ],
      "metadata": {
        "id": "GE3e5ECBfMDw"
      },
      "execution_count": null,
      "outputs": []
    },
    {
      "cell_type": "code",
      "source": [
        "get_natural_number()"
      ],
      "metadata": {
        "colab": {
          "base_uri": "https://localhost:8080/"
        },
        "id": "QzYoCgiGh66-",
        "outputId": "1a7a4a2c-d2dc-4fcf-b17f-4d307706c725"
      },
      "execution_count": null,
      "outputs": [
        {
          "output_type": "execute_result",
          "data": {
            "text/plain": [
              "<generator object get_natural_number at 0x7b03c9190900>"
            ]
          },
          "metadata": {},
          "execution_count": 14
        }
      ]
    },
    {
      "cell_type": "markdown",
      "source": [
        "함수의 리턴 값은 다음과 같이 제너레이터가 됨\n",
        "\n",
        "값을 생성하려면 next()로 추출하면 됨"
      ],
      "metadata": {
        "id": "eJfTN1Z5iIWa"
      }
    },
    {
      "cell_type": "code",
      "source": [
        "g = get_natural_number()\n",
        "for _ in range(0,5):\n",
        "    print(next(g))"
      ],
      "metadata": {
        "colab": {
          "base_uri": "https://localhost:8080/"
        },
        "id": "ReKJpyWfh94v",
        "outputId": "da31dfea-8739-43cb-93b2-48874fb4755f"
      },
      "execution_count": null,
      "outputs": [
        {
          "output_type": "stream",
          "name": "stdout",
          "text": [
            "1\n",
            "2\n",
            "3\n",
            "4\n",
            "5\n"
          ]
        }
      ]
    },
    {
      "cell_type": "markdown",
      "source": [
        "제너레이터는 여러 타입의 값을 하나의 함수에서 생성하는 것도 가능"
      ],
      "metadata": {
        "id": "PXicZQRziZ4M"
      }
    },
    {
      "cell_type": "code",
      "source": [
        "def generator():\n",
        "    yield 1\n",
        "    yield 'string'\n",
        "    yield True"
      ],
      "metadata": {
        "id": "cD6VoPvRifvd"
      },
      "execution_count": null,
      "outputs": []
    },
    {
      "cell_type": "code",
      "source": [
        "g = generator()"
      ],
      "metadata": {
        "id": "RUdDyabDit8i"
      },
      "execution_count": null,
      "outputs": []
    },
    {
      "cell_type": "code",
      "source": [
        "next(g)"
      ],
      "metadata": {
        "colab": {
          "base_uri": "https://localhost:8080/"
        },
        "id": "GYlJOxUsiv7j",
        "outputId": "b8d7ad85-71d6-4e8f-e317-ea2d5dd86de7"
      },
      "execution_count": null,
      "outputs": [
        {
          "output_type": "execute_result",
          "data": {
            "text/plain": [
              "1"
            ]
          },
          "metadata": {},
          "execution_count": 18
        }
      ]
    },
    {
      "cell_type": "code",
      "source": [
        "next(g)"
      ],
      "metadata": {
        "colab": {
          "base_uri": "https://localhost:8080/",
          "height": 35
        },
        "id": "kJPVjrE9iwDE",
        "outputId": "15fbde32-2c73-46c5-9de8-a7ec1b30d4ed"
      },
      "execution_count": null,
      "outputs": [
        {
          "output_type": "execute_result",
          "data": {
            "text/plain": [
              "'string'"
            ],
            "application/vnd.google.colaboratory.intrinsic+json": {
              "type": "string"
            }
          },
          "metadata": {},
          "execution_count": 19
        }
      ]
    },
    {
      "cell_type": "code",
      "source": [
        "next(g)"
      ],
      "metadata": {
        "colab": {
          "base_uri": "https://localhost:8080/"
        },
        "id": "v8JvNLqvi0Kd",
        "outputId": "982e2e9a-236b-4819-ac91-d1485d0f0085"
      },
      "execution_count": null,
      "outputs": [
        {
          "output_type": "execute_result",
          "data": {
            "text/plain": [
              "True"
            ]
          },
          "metadata": {},
          "execution_count": 20
        }
      ]
    },
    {
      "cell_type": "code",
      "source": [
        "next(g)"
      ],
      "metadata": {
        "colab": {
          "base_uri": "https://localhost:8080/",
          "height": 147
        },
        "id": "XYxpfx1Ai1YW",
        "outputId": "4fe3ad2c-02eb-4d97-dc00-ffbd7a2a6cb9"
      },
      "execution_count": null,
      "outputs": [
        {
          "output_type": "error",
          "ename": "StopIteration",
          "evalue": "",
          "traceback": [
            "\u001b[0;31m---------------------------------------------------------------------------\u001b[0m",
            "\u001b[0;31mStopIteration\u001b[0m                             Traceback (most recent call last)",
            "\u001b[0;32m<ipython-input-21-e734f8aca5ac>\u001b[0m in \u001b[0;36m<cell line: 1>\u001b[0;34m()\u001b[0m\n\u001b[0;32m----> 1\u001b[0;31m \u001b[0mnext\u001b[0m\u001b[0;34m(\u001b[0m\u001b[0mg\u001b[0m\u001b[0;34m)\u001b[0m\u001b[0;34m\u001b[0m\u001b[0;34m\u001b[0m\u001b[0m\n\u001b[0m",
            "\u001b[0;31mStopIteration\u001b[0m: "
          ]
        }
      ]
    },
    {
      "cell_type": "markdown",
      "source": [
        "# range"
      ],
      "metadata": {
        "id": "D37G81kFi4id"
      }
    },
    {
      "cell_type": "markdown",
      "source": [
        "제너레이터의 방식을 활용하는 대표적인 함수"
      ],
      "metadata": {
        "id": "5BktMWUfi7px"
      }
    },
    {
      "cell_type": "code",
      "source": [
        "list(range(5))"
      ],
      "metadata": {
        "id": "Dc5Es7eti4TB",
        "colab": {
          "base_uri": "https://localhost:8080/"
        },
        "outputId": "faf541ec-6cca-4e5e-f55e-cb1b70988247"
      },
      "execution_count": null,
      "outputs": [
        {
          "output_type": "execute_result",
          "data": {
            "text/plain": [
              "[0, 1, 2, 3, 4]"
            ]
          },
          "metadata": {},
          "execution_count": 22
        }
      ]
    },
    {
      "cell_type": "code",
      "source": [
        "range(5)"
      ],
      "metadata": {
        "colab": {
          "base_uri": "https://localhost:8080/"
        },
        "id": "JnwONgUS74wP",
        "outputId": "a81fb68a-eaab-4647-b00c-497d98f3ba22"
      },
      "execution_count": null,
      "outputs": [
        {
          "output_type": "execute_result",
          "data": {
            "text/plain": [
              "range(0, 5)"
            ]
          },
          "metadata": {},
          "execution_count": 23
        }
      ]
    },
    {
      "cell_type": "code",
      "source": [
        "type(range(0,5))"
      ],
      "metadata": {
        "colab": {
          "base_uri": "https://localhost:8080/"
        },
        "id": "AFCnOyR977Vh",
        "outputId": "d4d4a74a-85fd-4305-e8e6-69ffe2266da4"
      },
      "execution_count": null,
      "outputs": [
        {
          "output_type": "execute_result",
          "data": {
            "text/plain": [
              "range"
            ]
          },
          "metadata": {},
          "execution_count": 24
        }
      ]
    },
    {
      "cell_type": "code",
      "source": [
        "for i in range(0,5):\n",
        "    print(i, end=' ')"
      ],
      "metadata": {
        "colab": {
          "base_uri": "https://localhost:8080/"
        },
        "id": "qnoeiMda8DkV",
        "outputId": "8f35432a-def5-4f5d-e555-41b3876f74db"
      },
      "execution_count": null,
      "outputs": [
        {
          "output_type": "stream",
          "name": "stdout",
          "text": [
            "0 1 2 3 4 "
          ]
        }
      ]
    },
    {
      "cell_type": "markdown",
      "source": [
        "range()는 range 클래스를 리턴하며, for문에서 사용할 경우 내부적으로 제너레이터와 next()를 호출하듯 매번 다음 숫자를 생성해냄\n",
        "\n"
      ],
      "metadata": {
        "id": "2UGt4uft8KXM"
      }
    },
    {
      "cell_type": "code",
      "source": [
        "a = [n for n in range(10000)]"
      ],
      "metadata": {
        "id": "qAQrZjeh8KJ1"
      },
      "execution_count": null,
      "outputs": []
    },
    {
      "cell_type": "code",
      "source": [
        "b = range(10000)"
      ],
      "metadata": {
        "id": "3hZc5g0h8Uj-"
      },
      "execution_count": null,
      "outputs": []
    },
    {
      "cell_type": "code",
      "source": [
        "len(a)"
      ],
      "metadata": {
        "colab": {
          "base_uri": "https://localhost:8080/"
        },
        "id": "BXr091c48UHr",
        "outputId": "2a4e95d0-fa51-493e-a297-0f0bf32d0cab"
      },
      "execution_count": null,
      "outputs": [
        {
          "output_type": "execute_result",
          "data": {
            "text/plain": [
              "10000"
            ]
          },
          "metadata": {},
          "execution_count": 29
        }
      ]
    },
    {
      "cell_type": "code",
      "source": [
        "len(b)"
      ],
      "metadata": {
        "colab": {
          "base_uri": "https://localhost:8080/"
        },
        "id": "OKNTN2iU8aIB",
        "outputId": "06f9ca7a-0e0d-4320-e6b8-f7b833576fdd"
      },
      "execution_count": null,
      "outputs": [
        {
          "output_type": "execute_result",
          "data": {
            "text/plain": [
              "10000"
            ]
          },
          "metadata": {},
          "execution_count": 32
        }
      ]
    },
    {
      "cell_type": "code",
      "source": [
        "len(a) == len(b)"
      ],
      "metadata": {
        "colab": {
          "base_uri": "https://localhost:8080/"
        },
        "id": "w-qXtXfm87at",
        "outputId": "ba4720d5-042a-487a-ed51-4d1e2de250f5"
      },
      "execution_count": null,
      "outputs": [
        {
          "output_type": "execute_result",
          "data": {
            "text/plain": [
              "True"
            ]
          },
          "metadata": {},
          "execution_count": 33
        }
      ]
    },
    {
      "cell_type": "markdown",
      "source": [
        "실제로 len()으로 길이 비교를 해보면 둘 다 동일한 10000개가 출력되며, 비교 연산자에서도 True를 return함\n",
        "\n",
        "그러나 a에는 이미 생성된 값이 담겨있고, b는 생성해야 한다는 조건만 존재함"
      ],
      "metadata": {
        "id": "NBqy-h468mZv"
      }
    },
    {
      "cell_type": "code",
      "source": [
        "b"
      ],
      "metadata": {
        "colab": {
          "base_uri": "https://localhost:8080/"
        },
        "id": "0NctmDRe9JY-",
        "outputId": "b525fc4e-fda2-4c66-b367-21e91783d6f5"
      },
      "execution_count": null,
      "outputs": [
        {
          "output_type": "execute_result",
          "data": {
            "text/plain": [
              "range(0, 10000)"
            ]
          },
          "metadata": {},
          "execution_count": 34
        }
      ]
    },
    {
      "cell_type": "code",
      "source": [
        "type(b)"
      ],
      "metadata": {
        "colab": {
          "base_uri": "https://localhost:8080/"
        },
        "id": "snkQfJ-x9K4X",
        "outputId": "2a716b62-0d98-4fce-9b5d-a558eeee4475"
      },
      "execution_count": null,
      "outputs": [
        {
          "output_type": "execute_result",
          "data": {
            "text/plain": [
              "range"
            ]
          },
          "metadata": {},
          "execution_count": 36
        }
      ]
    },
    {
      "cell_type": "markdown",
      "source": [
        "둘 사이의 메모리 점유율을 비교해보면 range 클래스를 리턴하는 방식의 장점이 쉽게 와닿음"
      ],
      "metadata": {
        "id": "25BRJ3Cz9Qv1"
      }
    },
    {
      "cell_type": "code",
      "source": [
        "import sys\n",
        "\n",
        "sys.getsizeof(a)"
      ],
      "metadata": {
        "colab": {
          "base_uri": "https://localhost:8080/"
        },
        "id": "pphNvSRc9WqZ",
        "outputId": "84f9fae1-e2dc-4494-f033-c8fb286fa4a2"
      },
      "execution_count": null,
      "outputs": [
        {
          "output_type": "execute_result",
          "data": {
            "text/plain": [
              "85176"
            ]
          },
          "metadata": {},
          "execution_count": 38
        }
      ]
    },
    {
      "cell_type": "code",
      "source": [
        "sys.getsizeof(b)"
      ],
      "metadata": {
        "colab": {
          "base_uri": "https://localhost:8080/"
        },
        "id": "jwN_xZ9t9dN7",
        "outputId": "f6d76070-2dc3-4e95-81b8-b5852fcb1dbc"
      },
      "execution_count": null,
      "outputs": [
        {
          "output_type": "execute_result",
          "data": {
            "text/plain": [
              "48"
            ]
          },
          "metadata": {},
          "execution_count": 39
        }
      ]
    },
    {
      "cell_type": "markdown",
      "source": [
        "똑같이 숫자 100만개를 갖고 있으나 range 클래스를 이용하는 b 변수의 메모리 점유율이 훨씬 작음 (생성 조건만 보관하고 있기 때문)\n",
        "\n",
        "미리 생성하지 않은 값은 인덱스에 접근이 안될 거라 생각할 수 있으나, 인덱스로 접근 시에는 바로 생성하도록 구현되어 있기 때문에 리스트와 거의 동일한 느낌으로 불편없이 사용할 수 있음"
      ],
      "metadata": {
        "id": "lWk6sG4B9g81"
      }
    },
    {
      "cell_type": "code",
      "source": [
        "a[999]"
      ],
      "metadata": {
        "colab": {
          "base_uri": "https://localhost:8080/"
        },
        "id": "2zmZtWSX93-W",
        "outputId": "9405ecdf-5b37-45f6-c1ac-14ddf46067b6"
      },
      "execution_count": null,
      "outputs": [
        {
          "output_type": "execute_result",
          "data": {
            "text/plain": [
              "999"
            ]
          },
          "metadata": {},
          "execution_count": 40
        }
      ]
    },
    {
      "cell_type": "code",
      "source": [
        "b[999]"
      ],
      "metadata": {
        "colab": {
          "base_uri": "https://localhost:8080/"
        },
        "id": "Cn07DnNB96Ey",
        "outputId": "9ae8c63d-a204-427c-b16c-1b914be30700"
      },
      "execution_count": null,
      "outputs": [
        {
          "output_type": "execute_result",
          "data": {
            "text/plain": [
              "999"
            ]
          },
          "metadata": {},
          "execution_count": 41
        }
      ]
    },
    {
      "cell_type": "markdown",
      "source": [
        "# enumerate"
      ],
      "metadata": {
        "id": "tcRkl4UI97sn"
      }
    },
    {
      "cell_type": "markdown",
      "source": [
        "여러가지 자료형(list, set, tuple 등)을 인덱스를 포함한 enumerate 객체로 리턴함"
      ],
      "metadata": {
        "id": "ynxvqHrP9-hz"
      }
    },
    {
      "cell_type": "code",
      "source": [
        "a = [1, 2, 3, 2,45, 2, 5]"
      ],
      "metadata": {
        "id": "ZiMitMbI-F_6"
      },
      "execution_count": null,
      "outputs": []
    },
    {
      "cell_type": "code",
      "source": [
        "a"
      ],
      "metadata": {
        "colab": {
          "base_uri": "https://localhost:8080/"
        },
        "id": "nbgZhDXv-Npv",
        "outputId": "2860aa5e-95c3-4f86-b3af-9e2fb141dfb0"
      },
      "execution_count": null,
      "outputs": [
        {
          "output_type": "execute_result",
          "data": {
            "text/plain": [
              "[1, 2, 3, 2, 45, 2, 5]"
            ]
          },
          "metadata": {},
          "execution_count": 44
        }
      ]
    },
    {
      "cell_type": "code",
      "source": [
        "enumerate(a)"
      ],
      "metadata": {
        "colab": {
          "base_uri": "https://localhost:8080/"
        },
        "id": "vIpkMaY7-O3e",
        "outputId": "28316921-a616-4391-8e73-0f16c31feca2"
      },
      "execution_count": null,
      "outputs": [
        {
          "output_type": "execute_result",
          "data": {
            "text/plain": [
              "<enumerate at 0x7b03c906c740>"
            ]
          },
          "metadata": {},
          "execution_count": 45
        }
      ]
    },
    {
      "cell_type": "code",
      "source": [
        "list(enumerate(a))"
      ],
      "metadata": {
        "colab": {
          "base_uri": "https://localhost:8080/"
        },
        "id": "NTzMx-Rz-QIU",
        "outputId": "13e82b58-6724-437b-adbe-88c5271ea704"
      },
      "execution_count": null,
      "outputs": [
        {
          "output_type": "execute_result",
          "data": {
            "text/plain": [
              "[(0, 1), (1, 2), (2, 3), (3, 2), (4, 45), (5, 2), (6, 5)]"
            ]
          },
          "metadata": {},
          "execution_count": 46
        }
      ]
    },
    {
      "cell_type": "markdown",
      "source": [
        "인덱스를 자동으로 부여해줌"
      ],
      "metadata": {
        "id": "0lV_yWOp-Sk-"
      }
    },
    {
      "cell_type": "code",
      "source": [
        "a = ['a1', 'a2', 'a3']\n",
        "\n",
        "for i in range(len(a)):\n",
        "    print(i, a[i])"
      ],
      "metadata": {
        "colab": {
          "base_uri": "https://localhost:8080/"
        },
        "id": "Epj07PjV-ZZs",
        "outputId": "54a561f2-e600-4eaf-8553-56cc66df78f0"
      },
      "execution_count": null,
      "outputs": [
        {
          "output_type": "stream",
          "name": "stdout",
          "text": [
            "0 a1\n",
            "1 a2\n",
            "2 a3\n"
          ]
        }
      ]
    },
    {
      "cell_type": "code",
      "source": [
        "i = 0\n",
        "for v in a:\n",
        "  print(i, v)\n",
        "  i += 1"
      ],
      "metadata": {
        "colab": {
          "base_uri": "https://localhost:8080/"
        },
        "id": "DUOHmoZe-hzT",
        "outputId": "099cf6fb-4bd6-4c83-b406-a8a7efddbc18"
      },
      "execution_count": null,
      "outputs": [
        {
          "output_type": "stream",
          "name": "stdout",
          "text": [
            "0 a1\n",
            "1 a2\n",
            "2 a3\n"
          ]
        }
      ]
    },
    {
      "cell_type": "code",
      "source": [
        "# enumerate 사용 시, 인덱스와 값 모두 한 번에 깔끔하게 처리됨\n",
        "for i, v in enumerate(a):\n",
        "    print(i, v )"
      ],
      "metadata": {
        "colab": {
          "base_uri": "https://localhost:8080/"
        },
        "id": "NNQfI1a4-pFB",
        "outputId": "f7d81d79-3efa-4cf1-ef92-5a69ecdb1172"
      },
      "execution_count": null,
      "outputs": [
        {
          "output_type": "stream",
          "name": "stdout",
          "text": [
            "0 a1\n",
            "1 a2\n",
            "2 a3\n"
          ]
        }
      ]
    },
    {
      "cell_type": "markdown",
      "source": [
        "# // 나눗셈 연산자"
      ],
      "metadata": {
        "id": "yAVuVHuB-z8w"
      }
    },
    {
      "cell_type": "code",
      "source": [
        "5 / 3"
      ],
      "metadata": {
        "colab": {
          "base_uri": "https://localhost:8080/"
        },
        "id": "Ji2iZ6ND--nt",
        "outputId": "c10253f5-25fe-43bc-c3c7-087273f01acb"
      },
      "execution_count": null,
      "outputs": [
        {
          "output_type": "execute_result",
          "data": {
            "text/plain": [
              "1.6666666666666667"
            ]
          },
          "metadata": {},
          "execution_count": 51
        }
      ]
    },
    {
      "cell_type": "code",
      "source": [
        "5 // 3"
      ],
      "metadata": {
        "colab": {
          "base_uri": "https://localhost:8080/"
        },
        "id": "N2vPF3ge_A-I",
        "outputId": "0aed3913-ef11-48a3-a061-4b58095c4951"
      },
      "execution_count": null,
      "outputs": [
        {
          "output_type": "execute_result",
          "data": {
            "text/plain": [
              "1"
            ]
          },
          "metadata": {},
          "execution_count": 50
        }
      ]
    },
    {
      "cell_type": "code",
      "source": [
        "int(5 / 3)"
      ],
      "metadata": {
        "colab": {
          "base_uri": "https://localhost:8080/"
        },
        "id": "zPXBD1lb_CbY",
        "outputId": "5deb59c1-f7d0-4432-b3df-3e22a2d611df"
      },
      "execution_count": null,
      "outputs": [
        {
          "output_type": "execute_result",
          "data": {
            "text/plain": [
              "1"
            ]
          },
          "metadata": {},
          "execution_count": 52
        }
      ]
    },
    {
      "cell_type": "markdown",
      "source": [
        "몫 (Quotient) = //  \n",
        "나머지 (Remainder) = %"
      ],
      "metadata": {
        "id": "U5k44xx8_GZR"
      }
    },
    {
      "cell_type": "code",
      "source": [
        "5 % 3"
      ],
      "metadata": {
        "colab": {
          "base_uri": "https://localhost:8080/"
        },
        "id": "wz_QWb5N_Id7",
        "outputId": "73141f95-840f-4967-8c2e-01f148aa75ab"
      },
      "execution_count": null,
      "outputs": [
        {
          "output_type": "execute_result",
          "data": {
            "text/plain": [
              "2"
            ]
          },
          "metadata": {},
          "execution_count": 53
        }
      ]
    },
    {
      "cell_type": "markdown",
      "source": [
        "몫과 나머지를 동시에 구하는 방법"
      ],
      "metadata": {
        "id": "lpucdnfv_VDi"
      }
    },
    {
      "cell_type": "code",
      "source": [
        "divmod(5, 3)"
      ],
      "metadata": {
        "colab": {
          "base_uri": "https://localhost:8080/"
        },
        "id": "VId6JJ-E_VLQ",
        "outputId": "7464312f-7611-47ef-eebc-d99b029f336a"
      },
      "execution_count": null,
      "outputs": [
        {
          "output_type": "execute_result",
          "data": {
            "text/plain": [
              "(1, 2)"
            ]
          },
          "metadata": {},
          "execution_count": 54
        }
      ]
    },
    {
      "cell_type": "markdown",
      "source": [
        "# Print"
      ],
      "metadata": {
        "id": "wh5w_j3d_eRd"
      }
    },
    {
      "cell_type": "code",
      "source": [
        "print('A', 'B')"
      ],
      "metadata": {
        "colab": {
          "base_uri": "https://localhost:8080/"
        },
        "id": "xEdct4wu_qh-",
        "outputId": "e02b743a-e6a8-4662-e819-c7e7206bc23d"
      },
      "execution_count": null,
      "outputs": [
        {
          "output_type": "stream",
          "name": "stdout",
          "text": [
            "A B\n"
          ]
        }
      ]
    },
    {
      "cell_type": "markdown",
      "source": [
        "sep 파라미터로 구분자를 콤마(,)로 지정 가능"
      ],
      "metadata": {
        "id": "YxYA5hi-_xGj"
      }
    },
    {
      "cell_type": "code",
      "source": [
        "print('A', 'B', sep=',')"
      ],
      "metadata": {
        "colab": {
          "base_uri": "https://localhost:8080/"
        },
        "id": "rjKKeWYx_ftm",
        "outputId": "a87d560a-7865-4784-e0f8-9ccd768c0481"
      },
      "execution_count": null,
      "outputs": [
        {
          "output_type": "stream",
          "name": "stdout",
          "text": [
            "A,B\n"
          ]
        }
      ]
    },
    {
      "cell_type": "markdown",
      "source": [
        "print() 함수는 항상 줄바꿈을 함.\n",
        "end 파라미터를 공백으로 처리하여 줄바꿈을 하지 않도록 제한 가능"
      ],
      "metadata": {
        "id": "piCSxPYN_1f2"
      }
    },
    {
      "cell_type": "code",
      "source": [
        "print('A', end=' ')\n",
        "print('B')"
      ],
      "metadata": {
        "colab": {
          "base_uri": "https://localhost:8080/"
        },
        "id": "MrH93t9F_9xF",
        "outputId": "4f8cef5d-4d72-4ff1-cecb-fd9e4ac07752"
      },
      "execution_count": null,
      "outputs": [
        {
          "output_type": "stream",
          "name": "stdout",
          "text": [
            "A B\n"
          ]
        }
      ]
    },
    {
      "cell_type": "markdown",
      "source": [
        "join()으로 묶어서 처리 가능"
      ],
      "metadata": {
        "id": "2z2lEC3SAGWS"
      }
    },
    {
      "cell_type": "code",
      "source": [
        "a = ['A', 'B']\n",
        "print('*'.join(a))"
      ],
      "metadata": {
        "colab": {
          "base_uri": "https://localhost:8080/"
        },
        "id": "SilU6IDGAKaJ",
        "outputId": "071724ca-edbb-4f4c-c3f5-edd160c339fe"
      },
      "execution_count": null,
      "outputs": [
        {
          "output_type": "stream",
          "name": "stdout",
          "text": [
            "A*B\n"
          ]
        }
      ]
    },
    {
      "cell_type": "code",
      "source": [
        "idx = 1\n",
        "fruit = 'apple'"
      ],
      "metadata": {
        "id": "OXQa39EKAVr6"
      },
      "execution_count": null,
      "outputs": []
    },
    {
      "cell_type": "code",
      "source": [
        "print('{0}: {1}'.format(idx+1,fruit))"
      ],
      "metadata": {
        "colab": {
          "base_uri": "https://localhost:8080/"
        },
        "id": "h8cYCQrGAYvv",
        "outputId": "899f4354-5d42-4ceb-d502-634b651a94e7"
      },
      "execution_count": null,
      "outputs": [
        {
          "output_type": "stream",
          "name": "stdout",
          "text": [
            "2: apple\n"
          ]
        }
      ]
    },
    {
      "cell_type": "code",
      "source": [
        "print(f'{idx+1} : {fruit}')"
      ],
      "metadata": {
        "colab": {
          "base_uri": "https://localhost:8080/"
        },
        "id": "Qct-LjYQAfL8",
        "outputId": "e8c63725-49f6-404f-eb09-14e052f8ebc0"
      },
      "execution_count": null,
      "outputs": [
        {
          "output_type": "stream",
          "name": "stdout",
          "text": [
            "2 : apple\n"
          ]
        }
      ]
    },
    {
      "cell_type": "markdown",
      "source": [
        "# pass"
      ],
      "metadata": {
        "id": "DLwOyG2TAovf"
      }
    },
    {
      "cell_type": "markdown",
      "source": [
        "null 연산으로 아무것도 하지 않는 기능\n",
        "보통 코딩하다 보면 일단 코드의 전체 골격을 잡아 놓고 내부에서 처리할 내용은 차근차근 생각하며 만들겠다는 의도로 사용"
      ],
      "metadata": {
        "id": "TAcM6OXjAs4w"
      }
    },
    {
      "cell_type": "code",
      "source": [
        "def test():\n",
        "    pass"
      ],
      "metadata": {
        "id": "d5Wbu5O3ArC4"
      },
      "execution_count": null,
      "outputs": []
    },
    {
      "cell_type": "markdown",
      "source": [
        "# locals"
      ],
      "metadata": {
        "id": "0r_L3NB1A61C"
      }
    },
    {
      "cell_type": "markdown",
      "source": [
        "locals는 namespace를 딕셔너리(dict)으로 정리해서 넣어줌  \n",
        "* namespace란, 변수와 함수들이 정의되는 공간을 의미함. 변수 이름과 그에 해당하는 객체(값)들 간의 매핑을 저장하는 딕셔너리로 구현\n",
        "\n",
        "로컬에 선언된 모든 변수를 조회할 수 있는 강력한 명령어"
      ],
      "metadata": {
        "id": "XkLDyNo6BF0g"
      }
    },
    {
      "cell_type": "code",
      "source": [
        "x = 10\n",
        "def test():\n",
        "    a = 1\n",
        "    b = 2\n",
        "    print(locals()) # 지역 변수를 dict 형태로 불러\n",
        "    #print(globals()) # 전역 변수를 dict 형태로 불\n",
        "test()"
      ],
      "metadata": {
        "colab": {
          "base_uri": "https://localhost:8080/"
        },
        "id": "VtJJXiuVBOsJ",
        "outputId": "3f50f453-aee2-4fa1-eb1e-802709dcb576"
      },
      "execution_count": 71,
      "outputs": [
        {
          "output_type": "stream",
          "name": "stdout",
          "text": [
            "{'a': 1, 'b': 2}\n"
          ]
        }
      ]
    },
    {
      "cell_type": "markdown",
      "source": [
        "# 코딩 스타일"
      ],
      "metadata": {
        "id": "dtVU80yJDVj1"
      }
    },
    {
      "cell_type": "markdown",
      "source": [
        "파이썬의 PEP 8 과 구글의 파이썬 스타일 가이드를 참조"
      ],
      "metadata": {
        "id": "NZm65ORkDVzy"
      }
    },
    {
      "cell_type": "markdown",
      "source": [
        "# 변수명과 주석"
      ],
      "metadata": {
        "id": "85d0ioCeDV4g"
      }
    },
    {
      "cell_type": "markdown",
      "source": [
        "변수명을 잘 지어주고, 주석을 영어로 달자"
      ],
      "metadata": {
        "id": "KKoMDu-oDV7r"
      }
    },
    {
      "cell_type": "markdown",
      "source": [
        "# 리스트 컴프리헨션"
      ],
      "metadata": {
        "id": "kbDX5u3NDza5"
      }
    },
    {
      "cell_type": "markdown",
      "source": [
        "리스트 컴프리헨션은 대체로 표현식이 2개를 넘지 않도록 하고 복잡해질 경우 줄을 나누어 사용하자.\n",
        "\n",
        "가독성이 떨어 질 수 있기 때문이다.\n"
      ],
      "metadata": {
        "id": "b9e3LSZnDlbG"
      }
    },
    {
      "cell_type": "code",
      "source": [
        "str1s = [str1[i:i+2].lower() for i in range(len(str1)-1) if re.findall('[a-z]{2}',str1[i:i+2].lower())]"
      ],
      "metadata": {
        "id": "nW5a1V1RDxy3"
      },
      "execution_count": null,
      "outputs": []
    },
    {
      "cell_type": "markdown",
      "source": [
        "한 줄 풀이에 집착하기보다는 라인을 좀 더 여유있게 활용하여 가독성을 높이자"
      ],
      "metadata": {
        "id": "Q-13qRhJEJLv"
      }
    },
    {
      "cell_type": "code",
      "source": [
        "str1s = []\n",
        "for i in range(len(str1)-1):\n",
        "    if re.findall('[a-z]{2}',str1[i:i+2].lower()):\n",
        "        str1s.append(str1[i:i+2].lower())"
      ],
      "metadata": {
        "id": "IAc1dhl8EHuW"
      },
      "execution_count": null,
      "outputs": []
    },
    {
      "cell_type": "markdown",
      "source": [
        "# 구글 파이썬 스타일 가이드"
      ],
      "metadata": {
        "id": "wGHyv2fqEuG2"
      }
    },
    {
      "cell_type": "markdown",
      "source": [
        "함수의 기본 값으로 가변 객체(mutable object)를 사용하지 않음\n",
        "\n",
        "함수가 객체를 수정하면 기본값이 변경되기 때문임"
      ],
      "metadata": {
        "id": "Z-fvXkfREwnB"
      }
    },
    {
      "cell_type": "code",
      "source": [
        "def foo(a, b= []):\n",
        "    pass\n",
        "def foo(a, b: Mapping = {}):\n",
        "    pass"
      ],
      "metadata": {
        "id": "CzVBL5OmFGwm"
      },
      "execution_count": null,
      "outputs": []
    },
    {
      "cell_type": "markdown",
      "source": [
        "대신 다음과 같이 불변 객체(immutable object)를 사용함"
      ],
      "metadata": {
        "id": "dW538IgGFSm-"
      }
    },
    {
      "cell_type": "code",
      "source": [
        "def foo(a, b = None):\n",
        "    pass\n",
        "def foo(a, b: Optional[Sequence] = None):\n",
        "    if b is None:\n",
        "        b = []"
      ],
      "metadata": {
        "id": "-Jqem7UWFSMI"
      },
      "execution_count": null,
      "outputs": []
    },
    {
      "cell_type": "markdown",
      "source": [
        "True, False를 판별할 때는 암시적인 방법을 사용하는 편이 간결하고 가독성이 좋다."
      ],
      "metadata": {
        "id": "t1CK4upxFnY9"
      }
    },
    {
      "cell_type": "markdown",
      "source": [
        "![image.png](data:image/png;base64,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)"
      ],
      "metadata": {
        "id": "7xPpOX-2GKn_"
      }
    }
  ]
}
